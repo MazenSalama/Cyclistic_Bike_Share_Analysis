{
 "cells": [
  {
   "cell_type": "markdown",
   "metadata": {},
   "source": [
    "# Cyclistic Bike-Share Analysis\n",
    "\n",
    "**Author:** Your Name  \n",
    "**Date:** 2024-04-18\n",
    "\n",
    "---\n",
    "\n",
    "## 1. Introduction\n",
    "\n",
    "Cyclistic, a fictional bike-share company in Chicago, wants to maximize annual memberships. The marketing team believes converting casual riders to members is key to growth. This analysis explores how annual members and casual riders use Cyclistic bikes differently, providing actionable insights for marketing strategy."
   ]
  },
  {
   "cell_type": "markdown",
   "metadata": {},
   "source": [
    "## 2. Data Preparation\n",
    "\n",
    "*For demonstration, we simulate data similar to the real Cyclistic/Divvy dataset. Replace this section with real data import if available.*"
   ]
  },
  {
   "cell_type": "code",
   "metadata": {},
   "source": [
    "import pandas as pd\n",
    "import numpy as np\n",
    "import matplotlib.pyplot as plt\n",
    "import seaborn as sns\n",
    "\n",
    "# Set style\n",
    "sns.set(style=\"whitegrid\")\n",
    "np.random.seed(123)\n",
    "\n",
    "# Simulate data\n",
    "n = 10000\n",
    "member_casual = np.random.choice(['member', 'casual'], size=n, p=[0.65, 0.35])\n",
    "ride_length = np.where(\n",
    "    member_casual == 'member',\n",
    "    np.random.gamma(shape=1.5, scale=10, size=n),  # shorter rides\n",
    "    np.random.gamma(shape=2.5, scale=10, size=n)   # longer rides\n",
    ")\n",
    "days = ['Monday', 'Tuesday', 'Wednesday', 'Thursday', 'Friday', 'Saturday', 'Sunday']\n",
    "day_of_week = np.where(\n",
    "    member_casual == 'member',\n",
    "    np.random.choice(days, size=n, p=[0.15, 0.15, 0.15, 0.15, 0.15, 0.13, 0.12]),\n",
    "    np.random.choice(days, size=n, p=[0.1, 0.1, 0.1, 0.1, 0.15, 0.25, 0.2])\n",
    ")\n",
    "hour_of_day = np.where(\n",
    "    member_casual == 'member',\n",
    "    np.random.choice(range(24), size=n, p=[0.01]*7 + [0.1, 0.15, 0.1] + [0.03]*6 + [0.1, 0.15, 0.1] + [0.01]*6),\n",
    "    np.random.choice(range(24), size=n, p=[0.01]*7 + [0.03]*3 + [0.1]*6 + [0.03]*3 + [0.01]*5)\n",
    ")\n",
    "seasons = ['Winter', 'Spring', 'Summer', 'Fall']\n",
    "season = np.where(\n",
    "    member_casual == 'member',\n",
    "    np.random.choice(seasons, size=n, p=[0.15, 0.25, 0.35, 0.25]),\n",
    "    np.random.choice(seasons, size=n, p=[0.1, 0.2, 0.5, 0.2])\n",
    ")\n",
    "bike_types = ['classic_bike', 'electric_bike', 'docked_bike']\n",
    "rideable_type = np.where(\n",
    "    member_casual == 'member',\n",
    "    np.random.choice(bike_types, size=n, p=[0.75, 0.2, 0.05]),\n",
    "    np.random.choice(bike_types, size=n, p=[0.6, 0.3, 0.1])\n",
    ")\n",
    "\n",
    "df = pd.DataFrame({\n",
    "    'member_casual': member_casual,\n",
    "    'ride_length': ride_length,\n",
    "    'day_of_week': pd.Categorical(day_of_week, categories=days, ordered=True),\n",
    "    'hour_of_day': hour_of_day,\n",
    "    'season': pd.Categorical(season, categories=seasons, ordered=True),\n",
    "    'rideable_type': rideable_type\n",
    "})\n",
    "\n",
    "df.head()"
   ],
   "execution_count": null,
   "outputs": []
  },
  {
   "cell_type": "markdown",
   "metadata": {},
   "source": [
    "## 3. Exploratory Data Analysis"
   ]
  },
  {
   "cell_type": "markdown",
   "metadata": {},
   "source": [
    "### 3.1 Summary Statistics"
   ]
  },
  {
   "cell_type": "code",
   "metadata": {},
   "source": [
    "summary_stats = df.groupby('member_casual').agg(\n",
    "    number_of_rides=('ride_length', 'count'),\n",
    "    average_ride_length=('ride_length', 'mean'),\n",
    "    median_ride_length=('ride_length', 'median'),\n",
    "    max_ride_length=('ride_length', 'max')\n",
    ").reset_index()\n",
    "summary_stats"
   ],
   "execution_count": null,
   "outputs": []
  },
  {
   "cell_type": "markdown",
   "metadata": {},
   "source": [
    "### 3.2 Ride Patterns by Day of Week"
   ]
  },
  {
   "cell_type": "code",
   "metadata": {},
   "source": [
    "day_of_week_stats = df.groupby(['member_casual', 'day_of_week']).agg(\n",
    "    number_of_rides=('ride_length', 'count'),\n",
    "    average_ride_length=('ride_length', 'mean')\n",
    ").reset_index()\n",
    "day_of_week_stats"
   ],
   "execution_count": null,
   "outputs": []
  },
  {
   "cell_type": "markdown",
   "metadata": {},
   "source": [
    "### 3.3 Ride Patterns by Hour of Day"
   ]
  },
  {
   "cell_type": "code",
   "metadata": {},
   "source": [
    "hour_of_day_stats = df.groupby(['member_casual', 'hour_of_day']).agg(\n",
    "    number_of_rides=('ride_length', 'count'),\n",
    "    average_ride_length=('ride_length', 'mean')\n",
    ").reset_index()\n",
    "hour_of_day_stats.head()"
   ],
   "execution_count": null,
   "outputs": []
  },
  {
   "cell_type": "markdown",
   "metadata": {},
   "source": [
    "### 3.4 Ride Patterns by Season"
   ]
  },
  {
   "cell_type": "code",
   "metadata": {},
   "source": [
    "season_stats = df.groupby(['member_casual', 'season']).agg(\n",
    "    number_of_rides=('ride_length', 'count'),\n",
    "    average_ride_length=('ride_length', 'mean')\n",
    ").reset_index()\n",
    "season_stats"
   ],
   "execution_count": null,
   "outputs": []
  },
  {
   "cell_type": "markdown",
   "metadata": {},
   "source": [
    "### 3.5 Bike Type Preferences"
   ]
  },
  {
   "cell_type": "code",
   "metadata": {},
   "source": [
    "bike_type_stats = df.groupby(['member_casual', 'rideable_type']).agg(\n",
    "    number_of_rides=('ride_length', 'count'),\n",
    "    average_ride_length=('ride_length', 'mean')\n",
    ").reset_index()\n",
    "bike_type_stats"
   ],
   "execution_count": null,
   "outputs": []
  },
  {
   "cell_type": "markdown",
   "metadata": {},
   "source": [
    "## 4. Data Visualization"
   ]
  },
  {
   "cell_type": "markdown",
   "metadata": {},
   "source": [
    "### 4.1 Average Ride Length by User Type"
   ]
  },
  {
   "cell_type": "code",
   "metadata": {},
   "source": [
    "plt.figure(figsize=(7, 5))\n",
    "sns.barplot(x='member_casual', y='average_ride_length', data=summary_stats, palette='viridis')\n",
    "plt.title('Average Ride Length by User Type')\n",
    "plt.xlabel('User Type')\n",
    "plt.ylabel('Average Ride Length (minutes)')\n",
    "plt.show()"
   ],
   "execution_count": null,
   "outputs": []
  },
  {
   "cell_type": "markdown",
   "metadata": {},
   "source": [
    "### 4.2 Number of Rides by Day of Week"
   ]
  },
  {
   "cell_type": "code",
   "metadata": {},
   "source": [
    "plt.figure(figsize=(10, 6))\n",
    "sns.barplot(x='day_of_week', y='number_of_rides', hue='member_casual', data=day_of_week_stats, palette='viridis')\n",
    "plt.title('Number of Rides by Day of Week')\n",
    "plt.xlabel('Day of Week')\n",
    "plt.ylabel('Number of Rides')\n",
    "plt.legend(title='User Type')\n",
    "plt.show()"
   ],
   "execution_count": null,
   "outputs": []
  },
  {
   "cell_type": "markdown",
   "metadata": {},
   "source": [
    "### 4.3 Average Ride Length by Day of Week"
   ]
  },
  {
   "cell_type": "code",
   "metadata": {},
   "source": [
    "plt.figure(figsize=(10, 6))\n",
    "sns.barplot(x='day_of_week', y='average_ride_length', hue='member_casual', data=day_of_week_stats, palette='viridis')\n",
    "plt.title('Average Ride Length by Day of Week')\n",
    "plt.xlabel('Day of Week')\n",
    "plt.ylabel('Average Ride Length (minutes)')\n",
    "plt.legend(title='User Type')\n",
    "plt.show()"
   ],
   "execution_count": null,
   "outputs": []
  },
  {
   "cell_type": "markdown",
   "metadata": {},
   "source": [
    "### 4.4 Number of Rides by Hour of Day"
   ]
  },
  {
   "cell_type": "code",
   "metadata": {},
   "source": [
    "plt.figure(figsize=(12, 6))\n",
    "for user in ['member', 'casual']:\n",
    "    subset = hour_of_day_stats[hour_of_day_stats['member_casual'] == user]\n",
    "    plt.plot(subset['hour_of_day'], subset['number_of_rides'], marker='o', label=user)\n",
    "plt.title('Number of Rides by Hour of Day')\n",
    "plt.xlabel('Hour of Day')\n",
    "plt.ylabel('Number of Rides')\n",
    "plt.legend(title='User Type')\n",
    "plt.xticks(range(0, 24))\n",
    "plt.show()"
   ],
   "execution_count": null,
   "outputs": []
  },
  {
   "cell_type": "markdown",
   "metadata": {},
   "source": [
    "### 4.5 Number of Rides by Season"
   ]
  },
  {
   "cell_type": "code",
   "metadata": {},
   "source": [
    "plt.figure(figsize=(7, 5))\n",
    "sns.barplot(x='season', y='number_of_rides', hue='member_casual', data=season_stats, palette='viridis')\n",
    "plt.title('Number of Rides by Season')\n",
    "plt.xlabel('Season')\n",
    "plt.ylabel('Number of Rides')\n",
    "plt.legend(title='User Type')\n",
    "plt.show()"
   ],
   "execution_count": null,
   "outputs": []
  },
  {
   "cell_type": "markdown",
   "metadata": {},
   "source": [
    "### 4.6 Bike Type Usage by User Type"
   ]
  },
  {
   "cell_type": "code",
   "metadata": {},
   "source": [
    "plt.figure(figsize=(7, 5))\n",
    "sns.barplot(x='rideable_type', y='number_of_rides', hue='member_casual', data=bike_type_stats, palette='viridis')\n",
    "plt.title('Bike Type Usage by User Type')\n",
    "plt.xlabel('Bike Type')\n",
    "plt.ylabel('Number of Rides')\n",
    "plt.legend(title='User Type')\n",
    "plt.show()"
   ],
   "execution_count": null,
   "outputs": []
  },
  {
   "cell_type": "markdown",
   "metadata": {},
   "source": [
    "## 5. Key Insights\n",
    "\n",
    "- **Ride Duration:** Casual riders take longer trips on average than members.\n",
    "- **Weekly Patterns:** Members ride consistently throughout the week; casual riders peak on weekends.\n",
    "- **Daily Patterns:** Members ride more during commute hours; casual riders ride more midday.\n",
    "- **Seasonality:** Both groups ride more in summer, but casual ridership is more seasonal.\n",
    "- **Bike Type:** Both prefer classic bikes, but casual riders use electric bikes more."
   ]
  },
  {
   "cell_type": "markdown",
   "metadata": {},
   "source": [
    "## 6. Recommendations\n",
    "\n",
    "1. **Target casual riders on weekends with membership promotions.**\n",
    "2. **Highlight cost savings for frequent riders who convert to members.**\n",
    "3. **Promote electric bike benefits in membership packages.**\n",
    "4. **Develop digital campaigns for midday and weekend casual riders.**"
   ]
  },
  {
   "cell_type": "markdown",
   "metadata": {},
   "source": [
    "## 7. Conclusion\n",
    "\n",
    "This analysis provides actionable insights to help Cyclistic convert casual riders into annual members, supporting business growth and customer retention.\n",
    "\n",
    "---\n",
    "\n",
    "*For questions or collaboration, contact Your Name at your.email@example.com*"
   ]
  }
 ],
 "metadata": {
  "kernelspec": {
   "display_name": "Python 3",
   "language": "python",
   "name": "python3"
  },
  "language_info": {
   "name": "python",
   "version": ""
  }
 },
 "nbformat": 4,
 "nbformat_minor": 2
}